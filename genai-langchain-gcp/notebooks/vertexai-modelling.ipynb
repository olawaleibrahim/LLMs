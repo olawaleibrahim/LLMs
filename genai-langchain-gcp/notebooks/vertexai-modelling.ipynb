{
 "cells": [
  {
   "cell_type": "code",
   "execution_count": 1,
   "metadata": {},
   "outputs": [
    {
     "name": "stdout",
     "output_type": "stream",
     "text": [
      "Please, **ask me a question!**  I'm happy to try and answer anything you're curious about. I'm good at things like:\n",
      "\n",
      "* **Providing summaries of topics**\n",
      "* **Answering factual questions**\n",
      "* **Generating creative text formats** (like poems, code, scripts, etc.)\n",
      "* **Translating languages**\n",
      "* **And much more!**\n",
      "\n",
      "The more specific your question, the better I can understand and respond to it. 😊 \n",
      "\n"
     ]
    }
   ],
   "source": [
    "from langchain_google_vertexai import VertexAI\n",
    "llm = VertexAI(model_name=\"gemini-1.5-pro\")\n",
    "print(llm.invoke(\"Which question can you answer?\"))"
   ]
  },
  {
   "cell_type": "code",
   "execution_count": 2,
   "metadata": {},
   "outputs": [
    {
     "name": "stdout",
     "output_type": "stream",
     "text": [
      "In\n",
      " digital realms where data flows,\n",
      "Two forces meet, their power grows.\n",
      "\n",
      "Google Cloud, a vast expanse,\n",
      "Where code takes flight, in rhythmic dance\n",
      ".\n",
      "\n",
      "With servers humming, a symphony,\n",
      "Of processing might, for you and me.\n",
      "Storage boundless, a digital sea,\n",
      "Where terabytes swim\n",
      ", eternally.\n",
      "\n",
      "And then there's LangChain, a weaver of words,\n",
      "With language models, like flocks of birds.\n",
      "Transforming text,\n",
      " with AI's grace,\n",
      "Unlocking insights, at a rapid pace.\n",
      "\n",
      "It chains commands, in intricate flow,\n",
      "From question to answer, knowledge to bestow.\n",
      "Connecting models, large and grand,\n",
      "A symphony of language\n",
      ", at our command.\n",
      "\n",
      "Together they stand, a powerful pair,\n",
      "Cloud's infrastructure, LangChain's flair.\n",
      "Building applications, smart and bold,\n",
      "Where language reigns, and stories unfold.\n",
      "\n",
      "So let us explore\n",
      ", this digital art,\n",
      "Where Google Cloud and LangChain impart,\n",
      "A future bright, with endless might,\n",
      "In the realm of language, shining bright. \n",
      "\n"
     ]
    }
   ],
   "source": [
    "task = \"Write a poem about Google CLoud and LangCHain\"\n",
    "for chunk in llm.stream(task):\n",
    "    print(chunk)"
   ]
  },
  {
   "cell_type": "code",
   "execution_count": 3,
   "metadata": {},
   "outputs": [
    {
     "name": "stdout",
     "output_type": "stream",
     "text": [
      "In\n",
      " Ogun's embrace, where industry thrives,\n",
      "Lies Sango Ota, where\n",
      " ambition strives\n"
     ]
    }
   ],
   "source": [
    "from langchain_google_vertexai import HarmBlockThreshold, HarmCategory\n",
    "\n",
    "for chunk in llm.stream(\n",
    "    \"Write a poem about Sango Ota and Nigeria\",\n",
    "    temperature=0.9,\n",
    "    max_output_tokens=100,\n",
    "    stop=[\".\"],\n",
    "    safety_settings={\n",
    "        HarmCategory.HARM_CATEGORY_HATE_SPEECH\n",
    "        : HarmBlockThreshold.BLOCK_LOW_AND_ABOVE\n",
    "    }\n",
    "):\n",
    "    print(chunk)"
   ]
  },
  {
   "cell_type": "code",
   "execution_count": null,
   "metadata": {},
   "outputs": [],
   "source": []
  }
 ],
 "metadata": {
  "kernelspec": {
   "display_name": "Python 3 (ipykernel)",
   "language": "python",
   "name": "python3"
  },
  "language_info": {
   "codemirror_mode": {
    "name": "ipython",
    "version": 3
   },
   "file_extension": ".py",
   "mimetype": "text/x-python",
   "name": "python",
   "nbconvert_exporter": "python",
   "pygments_lexer": "ipython3",
   "version": "3.11.8"
  }
 },
 "nbformat": 4,
 "nbformat_minor": 2
}
