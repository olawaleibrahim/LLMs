{
 "cells": [
  {
   "cell_type": "code",
   "execution_count": 2,
   "metadata": {},
   "outputs": [],
   "source": [
    "from dotenv import load_dotenv\n",
    "import os\n",
    "\n",
    "load_dotenv()\n",
    "\n",
    "PROJECT_ID = os.getenv(\"PROJECT_ID\")\n",
    "REGION = os.getenv(\"REGION\")\n",
    "INDEX_NAME = os.getenv(\"INDEX_NAME\")\n",
    "INDEX_ID = os.getenv(\"INDEX_ID\")\n",
    "DB_USER= os.getenv(\"CLOUD_SQL_USER1\")\n",
    "DB_PASS = os.getenv(\"CLOUD_SQL_PASSWORD\")\n",
    "GCS_BUCKET_NAME = os.getenv(\"GCS_BUCKET_NAME\")\n",
    "DOC_PROCESSOR_NAME = os.getenv(\"DOC_PROCESSOR_NAME\")"
   ]
  },
  {
   "cell_type": "code",
   "execution_count": 9,
   "metadata": {},
   "outputs": [],
   "source": [
    "from langchain_google_vertexai import ChatVertexAI\n",
    "chat_vision_model = ChatVertexAI(model_name=\"gemini-1.0-pro-vision\")"
   ]
  },
  {
   "cell_type": "code",
   "execution_count": 10,
   "metadata": {},
   "outputs": [],
   "source": [
    "from langchain_core.messages import HumanMessage\n",
    "question1 = HumanMessage(content=\"Hello. Who are you?\")\n",
    "answer1 = chat_vision_model.invoke([question1])\n",
    "question2 = HumanMessage(content=\"What kind of input and output do you support\")\n",
    "answer2 = chat_vision_model.invoke([question1, answer1, question2])"
   ]
  },
  {
   "cell_type": "code",
   "execution_count": 15,
   "metadata": {},
   "outputs": [
    {
     "data": {
      "text/plain": [
       "HumanMessage(content='Hello. Who are you?', additional_kwargs={}, response_metadata={})"
      ]
     },
     "execution_count": 15,
     "metadata": {},
     "output_type": "execute_result"
    }
   ],
   "source": [
    "question1"
   ]
  },
  {
   "cell_type": "code",
   "execution_count": 13,
   "metadata": {},
   "outputs": [
    {
     "name": "stdout",
     "output_type": "stream",
     "text": [
      "I am a large multi-modal model, trained by Google.\n"
     ]
    }
   ],
   "source": [
    "print(answer1.content)"
   ]
  },
  {
   "cell_type": "code",
   "execution_count": 14,
   "metadata": {},
   "outputs": [
    {
     "name": "stdout",
     "output_type": "stream",
     "text": [
      "**Input:**\n",
      "\n",
      "* **Text:** I can understand and generate text in over 100 languages.\n",
      "* **Code:** I can understand and generate code in over 50 programming languages.\n",
      "* **Images:** I can generate and edit images.\n",
      "* **Audio:** I can generate and edit audio.\n",
      "* **Video:** I can generate and edit videos.\n",
      "\n",
      "**Output:**\n",
      "\n",
      "* **Text:** I can generate text in different styles, including creative writing, news articles, code, and more.\n",
      "* **Code:** I can generate code in different programming languages.\n",
      "* **Images:** I can generate images, including photorealistic images, abstract art, and more.\n",
      "* **Audio:** I can generate audio, including music, sound effects, and more.\n",
      "* **Video:** I can generate videos, including short films, animations, and more.\n",
      "\n",
      "I can also perform a variety of other tasks, such as:\n",
      "\n",
      "* **Translation:** I can translate text between over 100 languages.\n",
      "* **Summarization:** I can summarize text into a shorter, more concise version.\n",
      "* **Question answering:** I can answer questions based on my knowledge of the world.\n",
      "* **Sentiment analysis:** I can determine the sentiment (positive, negative, or neutral) of text.\n",
      "* **Named entity recognition:** I can identify named entities (such as people, places, and organizations) in text.\n"
     ]
    }
   ],
   "source": [
    "print(answer2.content)"
   ]
  },
  {
   "cell_type": "code",
   "execution_count": null,
   "metadata": {},
   "outputs": [],
   "source": []
  }
 ],
 "metadata": {
  "kernelspec": {
   "display_name": "Python 3 (ipykernel)",
   "language": "python",
   "name": "python3"
  },
  "language_info": {
   "codemirror_mode": {
    "name": "ipython",
    "version": 3
   },
   "file_extension": ".py",
   "mimetype": "text/x-python",
   "name": "python",
   "nbconvert_exporter": "python",
   "pygments_lexer": "ipython3",
   "version": "3.11.8"
  }
 },
 "nbformat": 4,
 "nbformat_minor": 2
}
