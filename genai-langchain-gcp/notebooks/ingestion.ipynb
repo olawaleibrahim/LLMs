{
 "cells": [
  {
   "cell_type": "code",
   "execution_count": 42,
   "metadata": {},
   "outputs": [
    {
     "data": {
      "text/plain": [
       "True"
      ]
     },
     "execution_count": 42,
     "metadata": {},
     "output_type": "execute_result"
    }
   ],
   "source": [
    "from dotenv import load_dotenv\n",
    "import os\n",
    "\n",
    "load_dotenv()"
   ]
  },
  {
   "cell_type": "code",
   "execution_count": 43,
   "metadata": {},
   "outputs": [],
   "source": [
    "PROJECT_ID = os.getenv(\"PROJECT_ID\")\n",
    "REGION = os.getenv(\"REGION\")\n",
    "INDEX_NAME = os.getenv(\"INDEX_NAME\")\n",
    "INDEX_ID = os.getenv(\"INDEX_ID\")\n",
    "DB_USER= os.getenv(\"CLOUD_SQL_USER1\")\n",
    "DB_PASS = os.getenv(\"CLOUD_SQL_PASSWORD\")\n",
    "GCS_BUCKET_NAME = os.getenv(\"GCS_BUCKET_NAME\")\n",
    "DOC_PROCESSOR_NAME = os.getenv(\"DOC_PROCESSOR_NAME\")"
   ]
  },
  {
   "cell_type": "code",
   "execution_count": null,
   "metadata": {},
   "outputs": [],
   "source": [
    "from langchain_community.document_loaders import PyPDFLoader\n",
    "from langchain_google_community import GCSFileLoader, GCSDirectoryLoader\n",
    "\n",
    "def load_pdf(file_path):\n",
    "    return PyPDFLoader(file_path)\n",
    "\n",
    "loader = GCSDirectoryLoader(project_name=PROJECT_ID,\n",
    "                       bucket=GCS_BUCKET_NAME,\n",
    "                       prefix=\"data/pdfs/\",\n",
    "                       loader_func=load_pdf)\n",
    "documents = loader.load()"
   ]
  },
  {
   "cell_type": "code",
   "execution_count": 33,
   "metadata": {},
   "outputs": [
    {
     "data": {
      "text/plain": [
       "[Document(metadata={'producer': 'Microsoft® Word for Microsoft 365', 'creator': 'Microsoft® Word for Microsoft 365', 'creationdate': '2021-12-01T15:46:35+00:00', 'moddate': '2021-12-01T15:46:35+00:00', 'source': 'gs://langchain-book-test-bucket/data/pdfs/Field_Trip_FrontPage[1]-converted.pdf', 'total_pages': 13, 'page': 0, 'page_label': '1'}, page_content='A \\nGEOPHYSICAL FIELD WORK REPORT \\nCARRIED OUT IN IGARRA, AKOKO-EDO LOCAL GOVERNMENT, \\nEDO STATE, NIGERIA. \\n \\nBY \\nIBRAHIM OLAWALE O. \\nAGP/15/1930 \\n \\nSUBMITTED TO \\nTHE DEPARTMENT OF APPLIED GEOPHYSICS, \\nSCHOOL OF EARTH AND MINERAL SCIENCES, \\nTHE FEDERAL UNIVERSITY OF TECHNOLOGY AKURE, ONDO STATE, NIGERIA. \\nIN PARTIAL FULFILLMENT OF THE REQUIREMENT FOR THE AWARD OF \\nBACHELOR OF TECHNOLOGY (B.TECH) IN APPLIED GEOPHYSICS. \\n \\n \\n          MARCH, 2019'),\n",
       " Document(metadata={'producer': 'Microsoft® Word for Microsoft 365', 'creator': 'Microsoft® Word for Microsoft 365', 'creationdate': '2021-12-01T15:46:35+00:00', 'moddate': '2021-12-01T15:46:35+00:00', 'source': 'gs://langchain-book-test-bucket/data/pdfs/Field_Trip_FrontPage[1]-converted.pdf', 'total_pages': 13, 'page': 1, 'page_label': '2'}, page_content='ii \\n \\nCERTIFICATION \\nThis is to certify that this field report was writ ten and compiled by IBRAHIM OLAWALE \\nOLUWASEGUN with matric number AGP/15/1930 \\n \\n \\n………………………                                                           \\nDr. I.A. ADEYEMO \\n(Fieldwork coordinator)'),\n",
       " Document(metadata={'producer': 'Microsoft® Word for Microsoft 365', 'creator': 'Microsoft® Word for Microsoft 365', 'creationdate': '2021-12-01T15:46:35+00:00', 'moddate': '2021-12-01T15:46:35+00:00', 'source': 'gs://langchain-book-test-bucket/data/pdfs/Field_Trip_FrontPage[1]-converted.pdf', 'total_pages': 13, 'page': 2, 'page_label': '3'}, page_content='iii \\n \\nDEDICATION \\nI dedicate this field work to the God, my ever loving parents, my ever endearing lecturers and my \\nfellow supportive supports. Without the aforementioned personalities, this field work wouldn’t be \\navailable.')]"
      ]
     },
     "execution_count": 33,
     "metadata": {},
     "output_type": "execute_result"
    }
   ],
   "source": [
    "documents[:3]"
   ]
  },
  {
   "cell_type": "markdown",
   "metadata": {},
   "source": [
    "### Chunking"
   ]
  },
  {
   "cell_type": "code",
   "execution_count": 34,
   "metadata": {},
   "outputs": [],
   "source": [
    "from langchain.text_splitter import RecursiveCharacterTextSplitter\n",
    "\n",
    "text_splitter = RecursiveCharacterTextSplitter(chunk_size=1000,\n",
    "                                               chunk_overlap=200)"
   ]
  },
  {
   "cell_type": "code",
   "execution_count": 37,
   "metadata": {},
   "outputs": [
    {
     "data": {
      "text/plain": [
       "(724, langchain_core.documents.base.Document)"
      ]
     },
     "execution_count": 37,
     "metadata": {},
     "output_type": "execute_result"
    }
   ],
   "source": [
    "texts = text_splitter.split_documents(documents)\n",
    "len(texts), type(texts[0])"
   ]
  },
  {
   "cell_type": "code",
   "execution_count": 48,
   "metadata": {},
   "outputs": [],
   "source": [
    "from langchain_google_community import DocAIParser\n",
    "from langchain_core.document_loaders.blob_loaders import Blob\n",
    "\n",
    "parser = DocAIParser(location=\"us\",\n",
    "                     processor_name=DOC_PROCESSOR_NAME,\n",
    "                     gcs_output_path=\"gs://{}/data/output/\".format(GCS_BUCKET_NAME))"
   ]
  },
  {
   "cell_type": "code",
   "execution_count": 53,
   "metadata": {},
   "outputs": [],
   "source": [
    "inp_path = \"gs://{}/data/pdfs/Full Chapters Thesis.pdf\".format(GCS_BUCKET_NAME)\n",
    "blob = Blob(path=inp_path)\n",
    "docs = list(parser.lazy_parse(blob))"
   ]
  },
  {
   "cell_type": "code",
   "execution_count": 55,
   "metadata": {},
   "outputs": [
    {
     "data": {
      "text/plain": [
       "97"
      ]
     },
     "execution_count": 55,
     "metadata": {},
     "output_type": "execute_result"
    }
   ],
   "source": [
    "len(docs)"
   ]
  },
  {
   "cell_type": "code",
   "execution_count": 56,
   "metadata": {},
   "outputs": [],
   "source": [
    "operations = parser.docai_parse([blob])"
   ]
  },
  {
   "cell_type": "code",
   "execution_count": 58,
   "metadata": {},
   "outputs": [],
   "source": [
    "import time\n",
    "while parser.is_running(operations):\n",
    "    time.sleep(0.5)\n",
    "results = parser.get_results(operations)"
   ]
  },
  {
   "cell_type": "code",
   "execution_count": 59,
   "metadata": {},
   "outputs": [
    {
     "data": {
      "text/plain": [
       "[DocAIParsingResults(source_path='gs://langchain-book-test-bucket/data/pdfs/Full Chapters Thesis.pdf', parsed_path='gs://langchain-book-test-bucket/data/output/10754326321655577915/0')]"
      ]
     },
     "execution_count": 59,
     "metadata": {},
     "output_type": "execute_result"
    }
   ],
   "source": [
    "results"
   ]
  },
  {
   "cell_type": "code",
   "execution_count": 60,
   "metadata": {},
   "outputs": [],
   "source": [
    "docs = list(parser.parse_from_results(results))"
   ]
  },
  {
   "cell_type": "code",
   "execution_count": 62,
   "metadata": {},
   "outputs": [
    {
     "data": {
      "text/plain": [
       "97"
      ]
     },
     "execution_count": 62,
     "metadata": {},
     "output_type": "execute_result"
    }
   ],
   "source": [
    "len(docs)"
   ]
  },
  {
   "cell_type": "code",
   "execution_count": null,
   "metadata": {},
   "outputs": [],
   "source": []
  }
 ],
 "metadata": {
  "kernelspec": {
   "display_name": "Python 3 (ipykernel)",
   "language": "python",
   "name": "python3"
  }
 },
 "nbformat": 4,
 "nbformat_minor": 2
}
