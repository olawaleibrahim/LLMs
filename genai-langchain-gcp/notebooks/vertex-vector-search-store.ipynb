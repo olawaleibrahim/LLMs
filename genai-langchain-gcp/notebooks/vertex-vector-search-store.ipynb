{
 "cells": [
  {
   "cell_type": "code",
   "execution_count": 47,
   "metadata": {},
   "outputs": [
    {
     "data": {
      "text/plain": [
       "True"
      ]
     },
     "execution_count": 47,
     "metadata": {},
     "output_type": "execute_result"
    }
   ],
   "source": [
    "from dotenv import load_dotenv\n",
    "import os\n",
    "\n",
    "load_dotenv()"
   ]
  },
  {
   "cell_type": "code",
   "execution_count": 49,
   "metadata": {},
   "outputs": [],
   "source": [
    "PROJECT_ID = os.getenv(\"PROJECT_ID\")\n",
    "REGION = os.getenv(\"REGION\")\n",
    "INDEX_NAME = os.getenv(\"INDEX_NAME\")\n",
    "INDEX_ID = os.getenv(\"INDEX_ID\")\n",
    "DB_USER= os.getenv(\"CLOUD_SQL_USER1\")\n",
    "DB_PASS = os.getenv(\"CLOUD_SQL_PASSWORD\")"
   ]
  },
  {
   "cell_type": "markdown",
   "metadata": {},
   "source": [
    "### Langchain VectorStores"
   ]
  },
  {
   "cell_type": "code",
   "execution_count": 4,
   "metadata": {},
   "outputs": [],
   "source": [
    "from typing import List, Optional\n",
    "\n",
    "from google.cloud import aiplatform\n",
    "from langchain_google_vertexai import VectorSearchVectorStore, VectorSearchVectorStoreDatastore\n",
    "from langchain_google_vertexai import VertexAIEmbeddings\n",
    "\n",
    "model_name = \"text-embedding-005\"\n",
    "embedding_model = VertexAIEmbeddings(model_name=model_name)\n"
   ]
  },
  {
   "cell_type": "code",
   "execution_count": 56,
   "metadata": {},
   "outputs": [],
   "source": [
    "from langchain_google_vertexai import VertexAIEmbeddings\n",
    "\n",
    "model_name = \"text-embedding-005\"\n",
    "embedding_model = VertexAIEmbeddings(model_name=model_name)\n",
    "\n",
    "single_embedding = embedding_model.embed_query(\"User query\")\n",
    "multiple_embeddings = embedding_model.embed_documents([\n",
    "\t\"Sample text 1\",\n",
    "\t\"Sample text 2\",\n",
    "\t\"Sample text 3\",\n",
    "])"
   ]
  },
  {
   "cell_type": "code",
   "execution_count": 29,
   "metadata": {},
   "outputs": [
    {
     "data": {
      "text/plain": [
       "768"
      ]
     },
     "execution_count": 29,
     "metadata": {},
     "output_type": "execute_result"
    }
   ],
   "source": [
    "len(single_embedding)"
   ]
  },
  {
   "cell_type": "code",
   "execution_count": 38,
   "metadata": {},
   "outputs": [],
   "source": [
    "def vector_search_create_index(\n",
    "    project: str, location: str, display_name: str, gcs_uri: Optional[str] = None\n",
    ") -> aiplatform.MatchingEngineIndex:\n",
    "    \"\"\"Create a vector search index.\n",
    "\n",
    "    Args:\n",
    "        project (str): Required. Project ID\n",
    "        location (str): Required. The region name\n",
    "        display_name (str): Required. The index display name\n",
    "        gcs_uri (str): Optional. The Google Cloud Storage uri for index content\n",
    "\n",
    "    Returns:\n",
    "        The created MatchingEngineIndex.\n",
    "    \"\"\"\n",
    "    # Initialize the Vertex AI client\n",
    "    aiplatform.init(project=project, location=location)\n",
    "\n",
    "    # Create Index\n",
    "    index = aiplatform.MatchingEngineIndex.create_tree_ah_index(\n",
    "        display_name=display_name,\n",
    "        contents_delta_uri=gcs_uri,\n",
    "        description=\"Matching Engine Index\",\n",
    "        dimensions=100,\n",
    "        approximate_neighbors_count=150,\n",
    "        leaf_node_embedding_count=500,\n",
    "        leaf_nodes_to_search_percent=7,\n",
    "        index_update_method=\"BATCH_UPDATE\",  # Options: STREAM_UPDATE, BATCH_UPDATE\n",
    "        distance_measure_type=aiplatform.matching_engine.matching_engine_index_config.DistanceMeasureType.DOT_PRODUCT_DISTANCE,\n",
    "    )\n",
    "\n",
    "    return index\n"
   ]
  },
  {
   "cell_type": "code",
   "execution_count": null,
   "metadata": {},
   "outputs": [
    {
     "name": "stdout",
     "output_type": "stream",
     "text": [
      "Creating MatchingEngineIndex\n",
      "Create MatchingEngineIndex backing LRO: projects/998605230609/locations/us-central1/indexes/4780496237663092736/operations/4648919777111179264\n",
      "MatchingEngineIndex created. Resource name: projects/998605230609/locations/us-central1/indexes/4780496237663092736\n",
      "To use this MatchingEngineIndex in another session:\n",
      "index = aiplatform.MatchingEngineIndex('projects/998605230609/locations/us-central1/indexes/4780496237663092736')\n"
     ]
    }
   ],
   "source": [
    "created_vector_index = vector_search_create_index(project=PROJECT_ID,\n",
    "                                                  location=REGION,\n",
    "                                                  display_name=\"professional-doc-index\")"
   ]
  },
  {
   "cell_type": "code",
   "execution_count": 53,
   "metadata": {},
   "outputs": [],
   "source": [
    "def vector_search_list_index(\n",
    "    project: str, location: str\n",
    ") -> List[aiplatform.MatchingEngineIndex]:\n",
    "    \"\"\"List vector search indexes.\n",
    "\n",
    "    Args:\n",
    "        project (str): Required. Project ID\n",
    "        location (str): Required. The region name\n",
    "\n",
    "    Returns:\n",
    "        List of aiplatform.MatchingEngineIndex\n",
    "    \"\"\"\n",
    "    # Initialize the Vertex AI client\n",
    "    aiplatform.init(project=project, location=location)\n",
    "\n",
    "    # List Indexes\n",
    "    return aiplatform.MatchingEngineIndex.list()\n"
   ]
  },
  {
   "cell_type": "code",
   "execution_count": 65,
   "metadata": {},
   "outputs": [
    {
     "data": {
      "text/plain": [
       "[<google.cloud.aiplatform.matching_engine.matching_engine_index.MatchingEngineIndex object at 0x7f1a4c520090> \n",
       " resource name: projects/998605230609/locations/us-central1/indexes/4780496237663092736]"
      ]
     },
     "execution_count": 65,
     "metadata": {},
     "output_type": "execute_result"
    }
   ],
   "source": [
    "vector_search_list_index(project=PROJECT_ID, location=REGION)"
   ]
  },
  {
   "cell_type": "code",
   "execution_count": 61,
   "metadata": {},
   "outputs": [],
   "source": [
    "def vector_search_create_index_endpoint(\n",
    "    project: str, location: str, display_name: str\n",
    ") -> None:\n",
    "    \"\"\"Create a vector search index endpoint.\n",
    "\n",
    "    Args:\n",
    "        project (str): Required. Project ID\n",
    "        location (str): Required. The region name\n",
    "        display_name (str): Required. The index endpoint display name\n",
    "    \"\"\"\n",
    "    # Initialize the Vertex AI client\n",
    "    aiplatform.init(project=project, location=location)\n",
    "\n",
    "    # Create Index Endpoint\n",
    "    index_endpoint = aiplatform.MatchingEngineIndexEndpoint.create(\n",
    "        display_name=display_name,\n",
    "        public_endpoint_enabled=True,\n",
    "        description=\"Matching Engine Index Endpoint\",\n",
    "    )\n",
    "\n",
    "    print(index_endpoint.name)\n",
    "    return index_endpoint.name"
   ]
  },
  {
   "cell_type": "code",
   "execution_count": 62,
   "metadata": {},
   "outputs": [
    {
     "name": "stdout",
     "output_type": "stream",
     "text": [
      "Creating MatchingEngineIndexEndpoint\n",
      "Create MatchingEngineIndexEndpoint backing LRO: projects/998605230609/locations/us-central1/indexEndpoints/8180749140699906048/operations/9194740650988273664\n",
      "MatchingEngineIndexEndpoint created. Resource name: projects/998605230609/locations/us-central1/indexEndpoints/8180749140699906048\n",
      "To use this MatchingEngineIndexEndpoint in another session:\n",
      "index_endpoint = aiplatform.MatchingEngineIndexEndpoint('projects/998605230609/locations/us-central1/indexEndpoints/8180749140699906048')\n",
      "8180749140699906048\n"
     ]
    }
   ],
   "source": [
    "created_endpoint_name = vector_search_create_index_endpoint(project=PROJECT_ID, location=REGION, display_name=\"professional-doc-index-endpoint\")"
   ]
  },
  {
   "cell_type": "code",
   "execution_count": 63,
   "metadata": {},
   "outputs": [
    {
     "data": {
      "text/plain": [
       "'8180749140699906048'"
      ]
     },
     "execution_count": 63,
     "metadata": {},
     "output_type": "execute_result"
    }
   ],
   "source": [
    "created_endpoint_name"
   ]
  },
  {
   "cell_type": "code",
   "execution_count": null,
   "metadata": {},
   "outputs": [],
   "source": [
    "def vector_search_deploy_index(\n",
    "    project: str,\n",
    "    location: str,\n",
    "    index_name: str,\n",
    "    index_endpoint_name: str,\n",
    "    deployed_index_id: str,\n",
    ") -> None:\n",
    "    \"\"\"Deploy a vector search index to a vector search index endpoint.\n",
    "\n",
    "    Args:\n",
    "        project (str): Required. Project ID\n",
    "        location (str): Required. The region name\n",
    "        index_name (str): Required. The index to update. A fully-qualified index\n",
    "          resource name or a index ID.  Example:\n",
    "          \"projects/123/locations/us-central1/indexes/my_index_id\" or\n",
    "          \"my_index_id\".\n",
    "        index_endpoint_name (str): Required. Index endpoint to deploy the index\n",
    "          to.\n",
    "        deployed_index_id (str): Required. The user specified ID of the\n",
    "          DeployedIndex.\n",
    "    \"\"\"\n",
    "    # Initialize the Vertex AI client\n",
    "    aiplatform.init(project=project, location=location)\n",
    "\n",
    "    # Create the index instance from an existing index\n",
    "    index = aiplatform.MatchingEngineIndex(index_name=index_name)\n",
    "\n",
    "    # Create the index endpoint instance from an existing endpoint.\n",
    "    index_endpoint = aiplatform.MatchingEngineIndexEndpoint(\n",
    "        index_endpoint_name=index_endpoint_name\n",
    "    )\n",
    "\n",
    "    # Deploy Index to Endpoint\n",
    "    index_endpoint = index_endpoint.deploy_index(\n",
    "        index=index, deployed_index_id=deployed_index_id\n",
    "    )\n",
    "\n",
    "    print(index_endpoint.deployed_indexes)"
   ]
  },
  {
   "cell_type": "code",
   "execution_count": 73,
   "metadata": {},
   "outputs": [
    {
     "data": {
      "text/plain": [
       "('projects/998605230609/locations/us-central1/indexes/4780496237663092736',\n",
       " '8180749140699906048')"
      ]
     },
     "execution_count": 73,
     "metadata": {},
     "output_type": "execute_result"
    }
   ],
   "source": [
    "INDEX_ID, created_endpoint_name"
   ]
  },
  {
   "cell_type": "code",
   "execution_count": 75,
   "metadata": {},
   "outputs": [
    {
     "name": "stdout",
     "output_type": "stream",
     "text": [
      "222222222222222222222\n",
      "33333333333333333333333\n",
      "Deploying index MatchingEngineIndexEndpoint index_endpoint: projects/998605230609/locations/us-central1/indexEndpoints/8180749140699906048\n",
      "Deploy index MatchingEngineIndexEndpoint index_endpoint backing LRO: projects/998605230609/locations/us-central1/indexEndpoints/8180749140699906048/operations/9072017561142427648\n",
      "MatchingEngineIndexEndpoint index_endpoint Deployed index. Resource name: projects/998605230609/locations/us-central1/indexEndpoints/8180749140699906048\n",
      "[id: \"professional_docindex_endpoint\"\n",
      "index: \"projects/998605230609/locations/us-central1/indexes/4780496237663092736\"\n",
      "create_time {\n",
      "  seconds: 1739812894\n",
      "  nanos: 17556000\n",
      "}\n",
      "index_sync_time {\n",
      "  seconds: 1739814439\n",
      "  nanos: 622997000\n",
      "}\n",
      "automatic_resources {\n",
      "  min_replica_count: 2\n",
      "  max_replica_count: 2\n",
      "}\n",
      "deployment_group: \"default\"\n",
      "]\n"
     ]
    }
   ],
   "source": [
    "vector_search_deploy_index(project=PROJECT_ID, \n",
    "                           location=REGION, \n",
    "                           index_name=INDEX_ID, \n",
    "                           index_endpoint_name=created_endpoint_name, \n",
    "                           deployed_index_id=\"professional_docindex_endpoint\")"
   ]
  },
  {
   "cell_type": "code",
   "execution_count": null,
   "metadata": {},
   "outputs": [],
   "source": [
    "def vector_search_list_index_endpoint(\n",
    "    project: str, location: str\n",
    ") -> List[aiplatform.MatchingEngineIndexEndpoint]:\n",
    "    \"\"\"List vector search index endpoints.\n",
    "\n",
    "    Args:\n",
    "        project (str): Required. Project ID\n",
    "        location (str): Required. The region name\n",
    "\n",
    "    Returns:\n",
    "        List of aiplatform.MatchingEngineIndexEndpoint\n",
    "    \"\"\"\n",
    "    # Initialize the Vertex AI client\n",
    "    aiplatform.init(project=project, location=location)\n",
    "\n",
    "    # List Index Endpoints\n",
    "    return aiplatform.MatchingEngineIndexEndpoint.list()"
   ]
  },
  {
   "cell_type": "code",
   "execution_count": 78,
   "metadata": {},
   "outputs": [
    {
     "data": {
      "text/plain": [
       "[<google.cloud.aiplatform.matching_engine.matching_engine_index_endpoint.MatchingEngineIndexEndpoint object at 0x7f1a4c6a7f10> \n",
       " resource name: projects/998605230609/locations/us-central1/indexEndpoints/8180749140699906048,\n",
       " <google.cloud.aiplatform.matching_engine.matching_engine_index_endpoint.MatchingEngineIndexEndpoint object at 0x7f1a4c5bbdd0> \n",
       " resource name: projects/998605230609/locations/us-central1/indexEndpoints/9176150211465052160]"
      ]
     },
     "execution_count": 78,
     "metadata": {},
     "output_type": "execute_result"
    }
   ],
   "source": [
    "vector_search_list_index_endpoint(project=PROJECT_ID, location=REGION)"
   ]
  },
  {
   "cell_type": "markdown",
   "metadata": {},
   "source": [
    "### Cloud SQL"
   ]
  },
  {
   "cell_type": "code",
   "execution_count": 1,
   "metadata": {},
   "outputs": [],
   "source": [
    "from langchain_google_cloud_sql_pg import PostgresEngine"
   ]
  },
  {
   "cell_type": "code",
   "execution_count": 51,
   "metadata": {},
   "outputs": [],
   "source": [
    "engine = PostgresEngine.from_instance(project_id=PROJECT_ID,\n",
    "                                      region=REGION,\n",
    "                                      user=DB_USER,\n",
    "                                      password=DB_PASS,\n",
    "                                      instance=\"langchain-sql-house1\",\n",
    "                                      database=\"ragdb\")"
   ]
  },
  {
   "cell_type": "code",
   "execution_count": null,
   "metadata": {},
   "outputs": [],
   "source": [
    "from langchain_google_cloud_sql_pg import Column\n",
    "engine.init_vectorstore_table(table_name=\"professional_docs\",\n",
    "                              vector_size=768,\n",
    "                              metadata_columns=[Column(\"title\", \"TEXT\")])"
   ]
  },
  {
   "cell_type": "code",
   "execution_count": 65,
   "metadata": {},
   "outputs": [
    {
     "name": "stderr",
     "output_type": "stream",
     "text": [
      "/tmp/ipykernel_360870/3384836738.py:5: RuntimeWarning: coroutine 'PostgresVectorStore.create' was never awaited\n",
      "  store = PostgresVectorStore.create(engine=engine,\n",
      "RuntimeWarning: Enable tracemalloc to get the object allocation traceback\n"
     ]
    }
   ],
   "source": [
    "from langchain_google_cloud_sql_pg import PostgresVectorStore\n",
    "from langchain_google_vertexai import VertexAIEmbeddings\n",
    "\n",
    "embedding = VertexAIEmbeddings(model_name=model_name)\n",
    "store = PostgresVectorStore.create(engine=engine,\n",
    "                            table_name=\"professional_docs\",\n",
    "                            embedding_service=embedding\n",
    "                            )"
   ]
  },
  {
   "cell_type": "code",
   "execution_count": null,
   "metadata": {},
   "outputs": [],
   "source": []
  }
 ],
 "metadata": {
  "kernelspec": {
   "display_name": "Python 3 (ipykernel)",
   "language": "python",
   "name": "python3"
  }
 },
 "nbformat": 4,
 "nbformat_minor": 2
}
